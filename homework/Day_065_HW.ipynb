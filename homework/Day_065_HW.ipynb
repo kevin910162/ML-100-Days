{
 "cells": [
  {
   "cell_type": "markdown",
   "metadata": {},
   "source": [
    "# 作業:\n",
    "嘗試調整參數:  \n",
    "sg:sg=1表示採用skip-gram,sg=0 表示採用cbow  \n",
    "window:能往左往右看幾個字的意思 "
   ]
  },
  {
   "cell_type": "code",
   "execution_count": 2,
   "metadata": {},
   "outputs": [],
   "source": [
    "import gensim, logging\n",
    "from gensim.models import word2vec"
   ]
  },
  {
   "cell_type": "code",
   "execution_count": 3,
   "metadata": {},
   "outputs": [
    {
     "name": "stderr",
     "output_type": "stream",
     "text": [
      "2019-03-12 00:43:24,305 : INFO : collecting all words and their counts\n",
      "2019-03-12 00:43:24,308 : INFO : PROGRESS: at sentence #0, processed 0 words, keeping 0 word types\n",
      "2019-03-12 00:43:24,309 : INFO : collected 3 word types from a corpus of 4 raw words and 2 sentences\n",
      "2019-03-12 00:43:24,310 : INFO : Loading a fresh vocabulary\n",
      "2019-03-12 00:43:24,310 : INFO : effective_min_count=1 retains 3 unique words (100% of original 3, drops 0)\n",
      "2019-03-12 00:43:24,311 : INFO : effective_min_count=1 leaves 4 word corpus (100% of original 4, drops 0)\n",
      "2019-03-12 00:43:24,311 : INFO : deleting the raw counts dictionary of 3 items\n",
      "2019-03-12 00:43:24,312 : INFO : sample=0.001 downsamples 3 most-common words\n",
      "2019-03-12 00:43:24,312 : INFO : downsampling leaves estimated 0 word corpus (5.7% of prior 4)\n",
      "2019-03-12 00:43:24,313 : INFO : estimated required memory for 3 words and 384 dimensions: 10716 bytes\n",
      "2019-03-12 00:43:24,313 : INFO : resetting layer weights\n",
      "2019-03-12 00:43:24,314 : INFO : training model with 4 workers on 3 vocabulary and 384 features, using sg=1 hs=0 sample=0.001 negative=5 window=3\n",
      "2019-03-12 00:43:24,319 : INFO : worker thread finished; awaiting finish of 3 more threads\n",
      "2019-03-12 00:43:24,320 : INFO : worker thread finished; awaiting finish of 2 more threads\n",
      "2019-03-12 00:43:24,320 : INFO : worker thread finished; awaiting finish of 1 more threads\n",
      "2019-03-12 00:43:24,321 : INFO : worker thread finished; awaiting finish of 0 more threads\n",
      "2019-03-12 00:43:24,321 : INFO : EPOCH - 1 : training on 4 raw words (0 effective words) took 0.0s, 0 effective words/s\n",
      "2019-03-12 00:43:24,324 : INFO : worker thread finished; awaiting finish of 3 more threads\n",
      "2019-03-12 00:43:24,325 : INFO : worker thread finished; awaiting finish of 2 more threads\n",
      "2019-03-12 00:43:24,325 : INFO : worker thread finished; awaiting finish of 1 more threads\n",
      "2019-03-12 00:43:24,326 : INFO : worker thread finished; awaiting finish of 0 more threads\n",
      "2019-03-12 00:43:24,327 : INFO : EPOCH - 2 : training on 4 raw words (0 effective words) took 0.0s, 0 effective words/s\n",
      "2019-03-12 00:43:24,331 : INFO : worker thread finished; awaiting finish of 3 more threads\n",
      "2019-03-12 00:43:24,332 : INFO : worker thread finished; awaiting finish of 2 more threads\n",
      "2019-03-12 00:43:24,334 : INFO : worker thread finished; awaiting finish of 1 more threads\n",
      "2019-03-12 00:43:24,334 : INFO : worker thread finished; awaiting finish of 0 more threads\n",
      "2019-03-12 00:43:24,335 : INFO : EPOCH - 3 : training on 4 raw words (1 effective words) took 0.0s, 210 effective words/s\n",
      "2019-03-12 00:43:24,340 : INFO : worker thread finished; awaiting finish of 3 more threads\n",
      "2019-03-12 00:43:24,340 : INFO : worker thread finished; awaiting finish of 2 more threads\n",
      "2019-03-12 00:43:24,341 : INFO : worker thread finished; awaiting finish of 1 more threads\n",
      "2019-03-12 00:43:24,341 : INFO : worker thread finished; awaiting finish of 0 more threads\n",
      "2019-03-12 00:43:24,342 : INFO : EPOCH - 4 : training on 4 raw words (1 effective words) took 0.0s, 534 effective words/s\n",
      "2019-03-12 00:43:24,344 : INFO : worker thread finished; awaiting finish of 3 more threads\n",
      "2019-03-12 00:43:24,345 : INFO : worker thread finished; awaiting finish of 2 more threads\n",
      "2019-03-12 00:43:24,345 : INFO : worker thread finished; awaiting finish of 1 more threads\n",
      "2019-03-12 00:43:24,345 : INFO : worker thread finished; awaiting finish of 0 more threads\n",
      "2019-03-12 00:43:24,346 : INFO : EPOCH - 5 : training on 4 raw words (0 effective words) took 0.0s, 0 effective words/s\n",
      "2019-03-12 00:43:24,346 : INFO : training on a 20 raw words (2 effective words) took 0.0s, 63 effective words/s\n",
      "2019-03-12 00:43:24,347 : WARNING : under 10 jobs per worker: consider setting a smaller `batch_words' for smoother alpha decay\n"
     ]
    }
   ],
   "source": [
    "sentences = [['I am a hero', 'sentence'], ['She is a teacher', 'sentence']] \n",
    "\n",
    "# train word2vec on the two sentences  \n",
    "logging.basicConfig(format='%(asctime)s : %(levelname)s : %(message)s', level=logging.INFO)  \n",
    "# sg=0 表示COBW --上下文為 input \n",
    "# sg=1 表示skip-gram --文字本身為 Input\n",
    "model = word2vec.Word2Vec(sentences, size=384, min_count=1, window=3, workers=4, sg=1)  "
   ]
  },
  {
   "cell_type": "code",
   "execution_count": 4,
   "metadata": {},
   "outputs": [
    {
     "name": "stdout",
     "output_type": "stream",
     "text": [
      "Word2Vec(vocab=3, size=384, alpha=0.025)\n"
     ]
    }
   ],
   "source": [
    "print(model)"
   ]
  },
  {
   "cell_type": "code",
   "execution_count": 5,
   "metadata": {},
   "outputs": [
    {
     "name": "stderr",
     "output_type": "stream",
     "text": [
      "C:\\Users\\Kevin Huang\\Anaconda3\\lib\\site-packages\\ipykernel_launcher.py:1: DeprecationWarning: Call to deprecated `similarity` (Method will be removed in 4.0.0, use self.wv.similarity() instead).\n",
      "  \"\"\"Entry point for launching an IPython kernel.\n"
     ]
    },
    {
     "data": {
      "text/plain": [
       "-0.058421165"
      ]
     },
     "execution_count": 5,
     "metadata": {},
     "output_type": "execute_result"
    }
   ],
   "source": [
    "model.similarity('I am a hero', 'She is a teacher')"
   ]
  },
  {
   "cell_type": "code",
   "execution_count": 6,
   "metadata": {},
   "outputs": [
    {
     "name": "stderr",
     "output_type": "stream",
     "text": [
      "2019-03-12 00:44:14,669 : INFO : saving Word2Vec object under mymodel, separately None\n",
      "2019-03-12 00:44:14,670 : INFO : not storing attribute vectors_norm\n",
      "2019-03-12 00:44:14,671 : INFO : not storing attribute cum_table\n",
      "2019-03-12 00:44:14,681 : INFO : saved mymodel\n",
      "2019-03-12 00:44:14,681 : INFO : loading Word2Vec object from mymodel\n",
      "2019-03-12 00:44:14,683 : INFO : loading wv recursively from mymodel.wv.* with mmap=None\n",
      "2019-03-12 00:44:14,684 : INFO : setting ignored attribute vectors_norm to None\n",
      "2019-03-12 00:44:14,684 : INFO : loading vocabulary recursively from mymodel.vocabulary.* with mmap=None\n",
      "2019-03-12 00:44:14,685 : INFO : loading trainables recursively from mymodel.trainables.* with mmap=None\n",
      "2019-03-12 00:44:14,686 : INFO : setting ignored attribute cum_table to None\n",
      "2019-03-12 00:44:14,686 : INFO : loaded mymodel\n"
     ]
    }
   ],
   "source": [
    "model.save('mymodel')\n",
    "new_mdl = gensim.models.word2vec.Word2Vec.load('mymodel')"
   ]
  },
  {
   "cell_type": "code",
   "execution_count": 7,
   "metadata": {},
   "outputs": [
    {
     "name": "stderr",
     "output_type": "stream",
     "text": [
      "2019-03-12 00:44:25,533 : INFO : collecting all words and their counts\n",
      "2019-03-12 00:44:25,534 : INFO : PROGRESS: at sentence #0, processed 0 words, keeping 0 word types\n",
      "2019-03-12 00:44:25,535 : INFO : collected 3 word types from a corpus of 4 raw words and 2 sentences\n",
      "2019-03-12 00:44:25,535 : INFO : Loading a fresh vocabulary\n",
      "2019-03-12 00:44:25,536 : INFO : effective_min_count=1 retains 3 unique words (100% of original 3, drops 0)\n",
      "2019-03-12 00:44:25,537 : INFO : effective_min_count=1 leaves 4 word corpus (100% of original 4, drops 0)\n",
      "2019-03-12 00:44:25,537 : INFO : deleting the raw counts dictionary of 3 items\n",
      "2019-03-12 00:44:25,538 : INFO : sample=0.001 downsamples 3 most-common words\n",
      "2019-03-12 00:44:25,538 : INFO : downsampling leaves estimated 0 word corpus (5.7% of prior 4)\n",
      "2019-03-12 00:44:25,539 : INFO : estimated required memory for 3 words and 256 dimensions: 7644 bytes\n",
      "2019-03-12 00:44:25,540 : INFO : resetting layer weights\n",
      "2019-03-12 00:44:25,541 : INFO : training model with 4 workers on 3 vocabulary and 256 features, using sg=0 hs=0 sample=0.001 negative=5 window=5\n",
      "2019-03-12 00:44:25,545 : INFO : worker thread finished; awaiting finish of 3 more threads\n",
      "2019-03-12 00:44:25,546 : INFO : worker thread finished; awaiting finish of 2 more threads\n",
      "2019-03-12 00:44:25,547 : INFO : worker thread finished; awaiting finish of 1 more threads\n",
      "2019-03-12 00:44:25,547 : INFO : worker thread finished; awaiting finish of 0 more threads\n",
      "2019-03-12 00:44:25,548 : INFO : EPOCH - 1 : training on 4 raw words (0 effective words) took 0.0s, 0 effective words/s\n",
      "2019-03-12 00:44:25,551 : INFO : worker thread finished; awaiting finish of 3 more threads\n",
      "2019-03-12 00:44:25,551 : INFO : worker thread finished; awaiting finish of 2 more threads\n",
      "2019-03-12 00:44:25,552 : INFO : worker thread finished; awaiting finish of 1 more threads\n",
      "2019-03-12 00:44:25,552 : INFO : worker thread finished; awaiting finish of 0 more threads\n",
      "2019-03-12 00:44:25,553 : INFO : EPOCH - 2 : training on 4 raw words (0 effective words) took 0.0s, 0 effective words/s\n",
      "2019-03-12 00:44:25,555 : INFO : worker thread finished; awaiting finish of 3 more threads\n",
      "2019-03-12 00:44:25,555 : INFO : worker thread finished; awaiting finish of 2 more threads\n",
      "2019-03-12 00:44:25,556 : INFO : worker thread finished; awaiting finish of 1 more threads\n",
      "2019-03-12 00:44:25,557 : INFO : worker thread finished; awaiting finish of 0 more threads\n",
      "2019-03-12 00:44:25,557 : INFO : EPOCH - 3 : training on 4 raw words (1 effective words) took 0.0s, 330 effective words/s\n",
      "2019-03-12 00:44:25,561 : INFO : worker thread finished; awaiting finish of 3 more threads\n",
      "2019-03-12 00:44:25,561 : INFO : worker thread finished; awaiting finish of 2 more threads\n",
      "2019-03-12 00:44:25,562 : INFO : worker thread finished; awaiting finish of 1 more threads\n",
      "2019-03-12 00:44:25,563 : INFO : worker thread finished; awaiting finish of 0 more threads\n",
      "2019-03-12 00:44:25,563 : INFO : EPOCH - 4 : training on 4 raw words (0 effective words) took 0.0s, 0 effective words/s\n",
      "2019-03-12 00:44:25,566 : INFO : worker thread finished; awaiting finish of 3 more threads\n",
      "2019-03-12 00:44:25,567 : INFO : worker thread finished; awaiting finish of 2 more threads\n",
      "2019-03-12 00:44:25,567 : INFO : worker thread finished; awaiting finish of 1 more threads\n",
      "2019-03-12 00:44:25,568 : INFO : worker thread finished; awaiting finish of 0 more threads\n",
      "2019-03-12 00:44:25,568 : INFO : EPOCH - 5 : training on 4 raw words (0 effective words) took 0.0s, 0 effective words/s\n",
      "2019-03-12 00:44:25,569 : INFO : training on a 20 raw words (1 effective words) took 0.0s, 37 effective words/s\n",
      "2019-03-12 00:44:25,570 : WARNING : under 10 jobs per worker: consider setting a smaller `batch_words' for smoother alpha decay\n",
      "C:\\Users\\Kevin Huang\\Anaconda3\\lib\\site-packages\\ipykernel_launcher.py:2: DeprecationWarning: Call to deprecated `similarity` (Method will be removed in 4.0.0, use self.wv.similarity() instead).\n",
      "  \n"
     ]
    },
    {
     "data": {
      "text/plain": [
       "-0.06397464"
      ]
     },
     "execution_count": 7,
     "metadata": {},
     "output_type": "execute_result"
    }
   ],
   "source": [
    "model = word2vec.Word2Vec(sentences, size=256, min_count=1, window=5, workers=4, sg=0)  \n",
    "model.similarity('I am a hero','She is a teacher')"
   ]
  },
  {
   "cell_type": "code",
   "execution_count": null,
   "metadata": {},
   "outputs": [],
   "source": []
  }
 ],
 "metadata": {
  "kernelspec": {
   "display_name": "Python 3",
   "language": "python",
   "name": "python3"
  },
  "language_info": {
   "codemirror_mode": {
    "name": "ipython",
    "version": 3
   },
   "file_extension": ".py",
   "mimetype": "text/x-python",
   "name": "python",
   "nbconvert_exporter": "python",
   "pygments_lexer": "ipython3",
   "version": "3.7.1"
  }
 },
 "nbformat": 4,
 "nbformat_minor": 2
}
