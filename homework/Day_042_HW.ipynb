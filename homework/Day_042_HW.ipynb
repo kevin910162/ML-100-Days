{
 "cells": [
  {
   "cell_type": "markdown",
   "metadata": {},
   "source": [
    "## 作業\n",
    "\n",
    "1. 試著調整 DecisionTreeClassifier(...) 中的參數，並觀察是否會改變結果？\n",
    "2. 改用其他資料集 (boston, wine)，並與回歸模型的結果進行比較"
   ]
  },
  {
   "cell_type": "code",
   "execution_count": 1,
   "metadata": {},
   "outputs": [],
   "source": [
    "from sklearn import datasets, metrics\n",
    "from sklearn.tree import DecisionTreeClassifier, DecisionTreeRegressor\n",
    "from sklearn.model_selection import train_test_split"
   ]
  },
  {
   "cell_type": "code",
   "execution_count": 2,
   "metadata": {},
   "outputs": [],
   "source": [
    "boston = datasets.load_boston()\n",
    "x_train, x_test, y_train, y_test = train_test_split(boston.data, boston.target, test_size=0.1, random_state=4)\n",
    "\n",
    "dtr = DecisionTreeRegressor()\n",
    "dtr.fit(x_train, y_train)\n",
    "\n",
    "y_pred = dtr.predict(x_test)"
   ]
  },
  {
   "cell_type": "code",
   "execution_count": 3,
   "metadata": {},
   "outputs": [
    {
     "name": "stdout",
     "output_type": "stream",
     "text": [
      "MAE: 3.6333\n",
      "MSE: 22.0429\n",
      "R-Squared: 0.7317\n",
      "\n",
      "feature names:\n",
      "['CRIM' 'ZN' 'INDUS' 'CHAS' 'NOX' 'RM' 'AGE' 'DIS' 'RAD' 'TAX' 'PTRATIO'\n",
      " 'B' 'LSTAT']\n",
      "\n",
      "feature importance:\n",
      "[4.59079402e-02 1.21168877e-03 9.94112559e-03 1.39043914e-03\n",
      " 2.86356932e-02 5.61775936e-01 8.26330879e-03 7.85760885e-02\n",
      " 2.86344930e-04 9.77583627e-03 2.50623502e-02 1.80483378e-02\n",
      " 2.11124910e-01]\n"
     ]
    }
   ],
   "source": [
    "print('MAE: {:.4f}'.format(metrics.mean_absolute_error(y_test, y_pred)))\n",
    "print('MSE: {:.4f}'.format(metrics.mean_squared_error(y_test, y_pred)))\n",
    "print('R-Squared: {:.4f}'.format(metrics.r2_score(y_test, y_pred)))\n",
    "print()\n",
    "print('feature names:\\n{}'.format(boston.feature_names))\n",
    "print()\n",
    "print('feature importance:\\n{}'.format(dtr.feature_importances_))"
   ]
  },
  {
   "cell_type": "code",
   "execution_count": 4,
   "metadata": {},
   "outputs": [],
   "source": [
    "wine = datasets.load_wine()\n",
    "x_train, x_test, y_train, y_test = train_test_split(wine.data, wine.target, test_size=0.1, random_state=4)\n",
    "\n",
    "clf = DecisionTreeClassifier()\n",
    "clf.fit(x_train, y_train)\n",
    "\n",
    "y_pred = clf.predict(x_test)"
   ]
  },
  {
   "cell_type": "code",
   "execution_count": 5,
   "metadata": {},
   "outputs": [
    {
     "name": "stdout",
     "output_type": "stream",
     "text": [
      "MAE: 0.1667\n",
      "MSE: 0.1667\n",
      "R-Squared: 0.7453\n",
      "\n",
      "feature names:\n",
      "['alcohol', 'malic_acid', 'ash', 'alcalinity_of_ash', 'magnesium', 'total_phenols', 'flavanoids', 'nonflavanoid_phenols', 'proanthocyanins', 'color_intensity', 'hue', 'od280/od315_of_diluted_wines', 'proline']\n",
      "\n",
      "feature importance:\n",
      "[0.03677724 0.         0.         0.         0.03658213 0.01426703\n",
      " 0.15863995 0.         0.         0.31830386 0.         0.01810796\n",
      " 0.41732184]\n"
     ]
    }
   ],
   "source": [
    "print('MAE: {:.4f}'.format(metrics.mean_absolute_error(y_test, y_pred)))\n",
    "print('MSE: {:.4f}'.format(metrics.mean_squared_error(y_test, y_pred)))\n",
    "print('R-Squared: {:.4f}'.format(metrics.r2_score(y_test, y_pred)))\n",
    "print()\n",
    "print('feature names:\\n{}'.format(wine.feature_names))\n",
    "print()\n",
    "print('feature importance:\\n{}'.format(clf.feature_importances_))"
   ]
  }
 ],
 "metadata": {
  "kernelspec": {
   "display_name": "Python 3",
   "language": "python",
   "name": "python3"
  },
  "language_info": {
   "codemirror_mode": {
    "name": "ipython",
    "version": 3
   },
   "file_extension": ".py",
   "mimetype": "text/x-python",
   "name": "python",
   "nbconvert_exporter": "python",
   "pygments_lexer": "ipython3",
   "version": "3.7.0"
  },
  "varInspector": {
   "cols": {
    "lenName": 16,
    "lenType": 16,
    "lenVar": 40
   },
   "kernels_config": {
    "python": {
     "delete_cmd_postfix": "",
     "delete_cmd_prefix": "del ",
     "library": "var_list.py",
     "varRefreshCmd": "print(var_dic_list())"
    },
    "r": {
     "delete_cmd_postfix": ") ",
     "delete_cmd_prefix": "rm(",
     "library": "var_list.r",
     "varRefreshCmd": "cat(var_dic_list()) "
    }
   },
   "types_to_exclude": [
    "module",
    "function",
    "builtin_function_or_method",
    "instance",
    "_Feature"
   ],
   "window_display": false
  }
 },
 "nbformat": 4,
 "nbformat_minor": 2
}
