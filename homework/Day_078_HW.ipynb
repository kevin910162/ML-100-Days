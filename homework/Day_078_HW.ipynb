{
 "cells": [
  {
   "cell_type": "markdown",
   "metadata": {},
   "source": [
    "## Work\n",
    "1. 請嘗試將 preproc_x 替換成以每筆資料的 min/max 進行標準化至 -1 ~ 1 間，再進行訓練\n",
    "2. 請嘗試將 mlp 疊更深 (e.g 5~10 層)，進行訓練後觀察 learning curve 的走勢\n",
    "3. (optional) 請改用 GPU 進行訓練 (如果你有 GPU 的話)，比較使用 CPU 與 GPU 的訓練速度"
   ]
  },
  {
   "cell_type": "code",
   "execution_count": 1,
   "metadata": {},
   "outputs": [],
   "source": [
    "## 確認硬體資源\n",
    "# !nvidia-smi"
   ]
  },
  {
   "cell_type": "code",
   "execution_count": 13,
   "metadata": {},
   "outputs": [],
   "source": [
    "import os\n",
    "import numpy as np\n",
    "from keras.models import Sequential\n",
    "from keras.layers import Dense\n",
    "from keras.datasets import cifar10\n",
    "# Try to enable GPU (optional)"
   ]
  },
  {
   "cell_type": "code",
   "execution_count": 3,
   "metadata": {},
   "outputs": [],
   "source": [
    "train, test = cifar10.load_data()"
   ]
  },
  {
   "cell_type": "code",
   "execution_count": 4,
   "metadata": {},
   "outputs": [],
   "source": [
    "## 資料前處理\n",
    "def preproc_x(x, flatten=True):\n",
    "    x  = (x - x.min(axis=0)) / (x.max(axis=0) - x.min(axis=0))\n",
    "    if flatten:\n",
    "        x = x.reshape((len(x), -1))\n",
    "    return x\n",
    "\n",
    "def preproc_y(y, num_classes=10):\n",
    "    if y.shape[-1] == 1:\n",
    "        y = keras.utils.to_categorical(y, num_classes)\n",
    "    return y    "
   ]
  },
  {
   "cell_type": "code",
   "execution_count": 5,
   "metadata": {},
   "outputs": [],
   "source": [
    "x_train, y_train = train\n",
    "x_test, y_test = test\n",
    "\n",
    "# Preproc the inputs\n",
    "x_train = preproc_x(x_train)\n",
    "x_test = preproc_x(x_test)\n",
    "\n",
    "# Preprc the outputs\n",
    "y_train = preproc_y(y_train)\n",
    "y_test = preproc_y(y_test)"
   ]
  },
  {
   "cell_type": "code",
   "execution_count": 10,
   "metadata": {},
   "outputs": [
    {
     "data": {
      "text/plain": [
       "(50000, 3072)"
      ]
     },
     "execution_count": 10,
     "metadata": {},
     "output_type": "execute_result"
    }
   ],
   "source": [
    "x_train.shape"
   ]
  },
  {
   "cell_type": "code",
   "execution_count": 16,
   "metadata": {},
   "outputs": [],
   "source": [
    "def build_mlp(input_shape, output_units=10, num_neurons=[512, 256, 128, 128, 128, 64, 32]):\n",
    "    \n",
    "    model = Sequential()\n",
    "    model.add(Dense(units = input_shape[1] ,input_dim = input_shape[1], \n",
    "                    kernel_initializer = 'normal', activation = 'relu',name = 'input'))\n",
    "    \n",
    "    for i, n_units in enumerate(num_neurons):\n",
    "        model.add(Dense(units=n_units, kernel_initializer='normal', activation='relu',\n",
    "                        name=\"hidden_layer\"+str(i+1)))  \n",
    "           \n",
    "                \n",
    "    model.add(Dense(units=output_units,kernel_initializer='normal', activation='softmax',name='output'))\n",
    "\n",
    "    return(model)"
   ]
  },
  {
   "cell_type": "code",
   "execution_count": 17,
   "metadata": {},
   "outputs": [
    {
     "name": "stdout",
     "output_type": "stream",
     "text": [
      "_________________________________________________________________\n",
      "Layer (type)                 Output Shape              Param #   \n",
      "=================================================================\n",
      "input (Dense)                (None, 3072)              9440256   \n",
      "_________________________________________________________________\n",
      "hidden_layer1 (Dense)        (None, 512)               1573376   \n",
      "_________________________________________________________________\n",
      "hidden_layer2 (Dense)        (None, 256)               131328    \n",
      "_________________________________________________________________\n",
      "hidden_layer3 (Dense)        (None, 128)               32896     \n",
      "_________________________________________________________________\n",
      "hidden_layer4 (Dense)        (None, 128)               16512     \n",
      "_________________________________________________________________\n",
      "hidden_layer5 (Dense)        (None, 128)               16512     \n",
      "_________________________________________________________________\n",
      "hidden_layer6 (Dense)        (None, 64)                8256      \n",
      "_________________________________________________________________\n",
      "hidden_layer7 (Dense)        (None, 32)                2080      \n",
      "_________________________________________________________________\n",
      "output (Dense)               (None, 10)                330       \n",
      "=================================================================\n",
      "Total params: 11,221,546\n",
      "Trainable params: 11,221,546\n",
      "Non-trainable params: 0\n",
      "_________________________________________________________________\n"
     ]
    }
   ],
   "source": [
    "## Build up the model\n",
    "model = build_mlp(input_shape=x_train.shape)\n",
    "model.summary()"
   ]
  },
  {
   "cell_type": "code",
   "execution_count": 18,
   "metadata": {},
   "outputs": [],
   "source": [
    "## 超參數設定\n",
    "LEARNING_RATE = 0.001\n",
    "EPOCHS = 100\n",
    "BATCH_SIZE = 256"
   ]
  },
  {
   "cell_type": "code",
   "execution_count": 19,
   "metadata": {},
   "outputs": [],
   "source": [
    "optimizer = keras.optimizers.Adam(lr=LEARNING_RATE)\n",
    "model.compile(loss=\"categorical_crossentropy\", metrics=[\"accuracy\"], optimizer=optimizer)"
   ]
  },
  {
   "cell_type": "code",
   "execution_count": 20,
   "metadata": {},
   "outputs": [
    {
     "name": "stdout",
     "output_type": "stream",
     "text": [
      "WARNING:tensorflow:From C:\\Users\\Kevin Huang\\Anaconda3\\envs\\tensorflow\\lib\\site-packages\\tensorflow\\python\\ops\\math_ops.py:3066: to_int32 (from tensorflow.python.ops.math_ops) is deprecated and will be removed in a future version.\n",
      "Instructions for updating:\n",
      "Use tf.cast instead.\n",
      "Train on 50000 samples, validate on 10000 samples\n",
      "Epoch 1/100\n",
      "50000/50000 [==============================] - 79s 2ms/step - loss: 2.0221 - acc: 0.2282 - val_loss: 1.9351 - val_acc: 0.2636\n",
      "Epoch 2/100\n",
      "50000/50000 [==============================] - 80s 2ms/step - loss: 1.8557 - acc: 0.2998 - val_loss: 1.8281 - val_acc: 0.3116\n",
      "Epoch 3/100\n",
      "50000/50000 [==============================] - 75s 1ms/step - loss: 1.7462 - acc: 0.3574 - val_loss: 1.6941 - val_acc: 0.3839\n",
      "Epoch 4/100\n",
      "50000/50000 [==============================] - 74s 1ms/step - loss: 1.6543 - acc: 0.4004 - val_loss: 1.6743 - val_acc: 0.3900\n",
      "Epoch 5/100\n",
      "50000/50000 [==============================] - 73s 1ms/step - loss: 1.5936 - acc: 0.4235 - val_loss: 1.5463 - val_acc: 0.4404\n",
      "Epoch 6/100\n",
      "50000/50000 [==============================] - 74s 1ms/step - loss: 1.5424 - acc: 0.4424 - val_loss: 1.5148 - val_acc: 0.4566\n",
      "Epoch 7/100\n",
      "50000/50000 [==============================] - 74s 1ms/step - loss: 1.5105 - acc: 0.4567 - val_loss: 1.4899 - val_acc: 0.4645\n",
      "Epoch 8/100\n",
      "50000/50000 [==============================] - 74s 1ms/step - loss: 1.4672 - acc: 0.4687 - val_loss: 1.4871 - val_acc: 0.4701\n",
      "Epoch 9/100\n",
      "50000/50000 [==============================] - 74s 1ms/step - loss: 1.4246 - acc: 0.4866 - val_loss: 1.5075 - val_acc: 0.4598\n",
      "Epoch 10/100\n",
      "50000/50000 [==============================] - 69s 1ms/step - loss: 1.3921 - acc: 0.4973 - val_loss: 1.4219 - val_acc: 0.4917\n",
      "Epoch 11/100\n",
      "50000/50000 [==============================] - 69s 1ms/step - loss: 1.3587 - acc: 0.5118 - val_loss: 1.4341 - val_acc: 0.4844\n",
      "Epoch 12/100\n",
      "50000/50000 [==============================] - 69s 1ms/step - loss: 1.3280 - acc: 0.5229 - val_loss: 1.4218 - val_acc: 0.4977\n",
      "Epoch 13/100\n",
      "50000/50000 [==============================] - 71s 1ms/step - loss: 1.2942 - acc: 0.5331 - val_loss: 1.3919 - val_acc: 0.5137\n",
      "Epoch 14/100\n",
      "50000/50000 [==============================] - 78s 2ms/step - loss: 1.2641 - acc: 0.5440 - val_loss: 1.3843 - val_acc: 0.5105\n",
      "Epoch 15/100\n",
      "50000/50000 [==============================] - 82s 2ms/step - loss: 1.2364 - acc: 0.5557 - val_loss: 1.3687 - val_acc: 0.5208\n",
      "Epoch 16/100\n",
      "50000/50000 [==============================] - 83s 2ms/step - loss: 1.2094 - acc: 0.5650 - val_loss: 1.3916 - val_acc: 0.5122\n",
      "Epoch 17/100\n",
      "50000/50000 [==============================] - 82s 2ms/step - loss: 1.1814 - acc: 0.5754 - val_loss: 1.3707 - val_acc: 0.5235\n",
      "Epoch 18/100\n",
      "50000/50000 [==============================] - 77s 2ms/step - loss: 1.1495 - acc: 0.5868 - val_loss: 1.3987 - val_acc: 0.5181\n",
      "Epoch 19/100\n",
      "50000/50000 [==============================] - 78s 2ms/step - loss: 1.1165 - acc: 0.5968 - val_loss: 1.4062 - val_acc: 0.5127\n",
      "Epoch 20/100\n",
      "50000/50000 [==============================] - 72s 1ms/step - loss: 1.0944 - acc: 0.6031 - val_loss: 1.3769 - val_acc: 0.5232\n",
      "Epoch 21/100\n",
      "50000/50000 [==============================] - 69s 1ms/step - loss: 1.0610 - acc: 0.6158 - val_loss: 1.4108 - val_acc: 0.5137\n",
      "Epoch 22/100\n",
      "50000/50000 [==============================] - 72s 1ms/step - loss: 1.0401 - acc: 0.6229 - val_loss: 1.4224 - val_acc: 0.5123\n",
      "Epoch 23/100\n",
      "50000/50000 [==============================] - 77s 2ms/step - loss: 1.0060 - acc: 0.6371 - val_loss: 1.4674 - val_acc: 0.5077\n",
      "Epoch 24/100\n",
      "50000/50000 [==============================] - 77s 2ms/step - loss: 0.9798 - acc: 0.6457 - val_loss: 1.4485 - val_acc: 0.5185\n",
      "Epoch 25/100\n",
      "50000/50000 [==============================] - 76s 2ms/step - loss: 0.9475 - acc: 0.6577 - val_loss: 1.4684 - val_acc: 0.5297\n",
      "Epoch 26/100\n",
      "50000/50000 [==============================] - 74s 1ms/step - loss: 0.9111 - acc: 0.6702 - val_loss: 1.5001 - val_acc: 0.5083\n",
      "Epoch 27/100\n",
      "50000/50000 [==============================] - 75s 1ms/step - loss: 0.8931 - acc: 0.6768 - val_loss: 1.5366 - val_acc: 0.5147\n",
      "Epoch 28/100\n",
      "50000/50000 [==============================] - 81s 2ms/step - loss: 0.8580 - acc: 0.6906 - val_loss: 1.5404 - val_acc: 0.5228\n",
      "Epoch 29/100\n",
      "50000/50000 [==============================] - 79s 2ms/step - loss: 0.8283 - acc: 0.7032 - val_loss: 1.4892 - val_acc: 0.5301\n",
      "Epoch 30/100\n",
      "50000/50000 [==============================] - 77s 2ms/step - loss: 0.8076 - acc: 0.7102 - val_loss: 1.5773 - val_acc: 0.5245\n",
      "Epoch 31/100\n",
      "50000/50000 [==============================] - 80s 2ms/step - loss: 0.7824 - acc: 0.7163 - val_loss: 1.5764 - val_acc: 0.5278\n",
      "Epoch 32/100\n",
      "50000/50000 [==============================] - 76s 2ms/step - loss: 0.7572 - acc: 0.7285 - val_loss: 1.5798 - val_acc: 0.5254\n",
      "Epoch 33/100\n",
      "50000/50000 [==============================] - 75s 2ms/step - loss: 0.7184 - acc: 0.7408 - val_loss: 1.6622 - val_acc: 0.5259\n",
      "Epoch 34/100\n",
      "50000/50000 [==============================] - 73s 1ms/step - loss: 0.7105 - acc: 0.7453 - val_loss: 1.6778 - val_acc: 0.5163\n",
      "Epoch 35/100\n",
      "50000/50000 [==============================] - 73s 1ms/step - loss: 0.6763 - acc: 0.7567 - val_loss: 1.6923 - val_acc: 0.5343\n",
      "Epoch 36/100\n",
      "50000/50000 [==============================] - 73s 1ms/step - loss: 0.6467 - acc: 0.7701 - val_loss: 1.7669 - val_acc: 0.5239\n",
      "Epoch 37/100\n",
      "50000/50000 [==============================] - 75s 1ms/step - loss: 0.6310 - acc: 0.7731 - val_loss: 1.7416 - val_acc: 0.5278\n",
      "Epoch 38/100\n",
      "50000/50000 [==============================] - 72s 1ms/step - loss: 0.5930 - acc: 0.7877 - val_loss: 1.9230 - val_acc: 0.5193\n",
      "Epoch 39/100\n",
      "50000/50000 [==============================] - 76s 2ms/step - loss: 0.5873 - acc: 0.7901 - val_loss: 1.8708 - val_acc: 0.5219\n",
      "Epoch 40/100\n",
      "50000/50000 [==============================] - 72s 1ms/step - loss: 0.5641 - acc: 0.7986 - val_loss: 1.9783 - val_acc: 0.5169\n",
      "Epoch 41/100\n",
      "50000/50000 [==============================] - 72s 1ms/step - loss: 0.5323 - acc: 0.8087 - val_loss: 1.8772 - val_acc: 0.5222\n",
      "Epoch 42/100\n",
      "50000/50000 [==============================] - 72s 1ms/step - loss: 0.5240 - acc: 0.8132 - val_loss: 1.9086 - val_acc: 0.5221\n",
      "Epoch 43/100\n",
      "50000/50000 [==============================] - 72s 1ms/step - loss: 0.5098 - acc: 0.8189 - val_loss: 1.9467 - val_acc: 0.5248\n",
      "Epoch 44/100\n",
      "50000/50000 [==============================] - 72s 1ms/step - loss: 0.4862 - acc: 0.8286 - val_loss: 2.0186 - val_acc: 0.5246\n",
      "Epoch 45/100\n",
      "50000/50000 [==============================] - 72s 1ms/step - loss: 0.4806 - acc: 0.8289 - val_loss: 2.0871 - val_acc: 0.5287\n",
      "Epoch 46/100\n",
      "50000/50000 [==============================] - 72s 1ms/step - loss: 0.4551 - acc: 0.8382 - val_loss: 2.1117 - val_acc: 0.5178\n",
      "Epoch 47/100\n",
      "50000/50000 [==============================] - 72s 1ms/step - loss: 0.4447 - acc: 0.8408 - val_loss: 2.1335 - val_acc: 0.5205\n",
      "Epoch 48/100\n",
      "50000/50000 [==============================] - 72s 1ms/step - loss: 0.4374 - acc: 0.8459 - val_loss: 2.2196 - val_acc: 0.5150\n",
      "Epoch 49/100\n",
      "50000/50000 [==============================] - 72s 1ms/step - loss: 0.4052 - acc: 0.8573 - val_loss: 2.2754 - val_acc: 0.5177\n",
      "Epoch 50/100\n",
      "50000/50000 [==============================] - 72s 1ms/step - loss: 0.4178 - acc: 0.8536 - val_loss: 2.2958 - val_acc: 0.5238\n",
      "Epoch 51/100\n",
      "50000/50000 [==============================] - 72s 1ms/step - loss: 0.3794 - acc: 0.8654 - val_loss: 2.3380 - val_acc: 0.5265\n",
      "Epoch 52/100\n",
      "50000/50000 [==============================] - 73s 1ms/step - loss: 0.3797 - acc: 0.8655 - val_loss: 2.5131 - val_acc: 0.5119\n",
      "Epoch 53/100\n",
      "50000/50000 [==============================] - 68s 1ms/step - loss: 0.3685 - acc: 0.8697 - val_loss: 2.2860 - val_acc: 0.5214\n",
      "Epoch 54/100\n",
      "50000/50000 [==============================] - 68s 1ms/step - loss: 0.3601 - acc: 0.8726 - val_loss: 2.4732 - val_acc: 0.5220\n",
      "Epoch 55/100\n",
      "50000/50000 [==============================] - 69s 1ms/step - loss: 0.3365 - acc: 0.8821 - val_loss: 2.4592 - val_acc: 0.5209\n",
      "Epoch 56/100\n",
      "50000/50000 [==============================] - 68s 1ms/step - loss: 0.3135 - acc: 0.8907 - val_loss: 2.4655 - val_acc: 0.5149\n",
      "Epoch 57/100\n"
     ]
    },
    {
     "name": "stdout",
     "output_type": "stream",
     "text": [
      "50000/50000 [==============================] - 68s 1ms/step - loss: 0.3365 - acc: 0.8825 - val_loss: 2.5346 - val_acc: 0.5090\n",
      "Epoch 58/100\n",
      "50000/50000 [==============================] - 68s 1ms/step - loss: 0.3225 - acc: 0.8868 - val_loss: 2.4947 - val_acc: 0.5136\n",
      "Epoch 59/100\n",
      "50000/50000 [==============================] - 68s 1ms/step - loss: 0.3132 - acc: 0.8905 - val_loss: 2.5344 - val_acc: 0.5220\n",
      "Epoch 60/100\n",
      "50000/50000 [==============================] - 68s 1ms/step - loss: 0.2969 - acc: 0.8963 - val_loss: 2.6599 - val_acc: 0.5260\n",
      "Epoch 61/100\n",
      "50000/50000 [==============================] - 73s 1ms/step - loss: 0.3012 - acc: 0.8960 - val_loss: 2.4301 - val_acc: 0.5155\n",
      "Epoch 62/100\n",
      "50000/50000 [==============================] - 72s 1ms/step - loss: 0.2829 - acc: 0.9010 - val_loss: 2.6223 - val_acc: 0.5165\n",
      "Epoch 63/100\n",
      "50000/50000 [==============================] - 72s 1ms/step - loss: 0.2706 - acc: 0.9049 - val_loss: 2.7674 - val_acc: 0.5154\n",
      "Epoch 64/100\n",
      "50000/50000 [==============================] - 77s 2ms/step - loss: 0.2663 - acc: 0.9073 - val_loss: 2.7258 - val_acc: 0.5135\n",
      "Epoch 65/100\n",
      "50000/50000 [==============================] - 84s 2ms/step - loss: 0.2589 - acc: 0.9100 - val_loss: 2.7472 - val_acc: 0.5118\n",
      "Epoch 66/100\n",
      "50000/50000 [==============================] - 83s 2ms/step - loss: 0.2630 - acc: 0.9083 - val_loss: 2.8534 - val_acc: 0.5013\n",
      "Epoch 67/100\n",
      "50000/50000 [==============================] - 84s 2ms/step - loss: 0.2652 - acc: 0.9076 - val_loss: 2.7212 - val_acc: 0.5243\n",
      "Epoch 68/100\n",
      "50000/50000 [==============================] - 84s 2ms/step - loss: 0.2619 - acc: 0.9094 - val_loss: 2.6667 - val_acc: 0.5148\n",
      "Epoch 69/100\n",
      "50000/50000 [==============================] - 84s 2ms/step - loss: 0.2354 - acc: 0.9181 - val_loss: 2.8066 - val_acc: 0.5149\n",
      "Epoch 70/100\n",
      "50000/50000 [==============================] - 84s 2ms/step - loss: 0.2401 - acc: 0.9183 - val_loss: 2.7833 - val_acc: 0.5218\n",
      "Epoch 71/100\n",
      "50000/50000 [==============================] - 84s 2ms/step - loss: 0.2162 - acc: 0.9255 - val_loss: 2.8775 - val_acc: 0.5147\n",
      "Epoch 72/100\n",
      "50000/50000 [==============================] - 84s 2ms/step - loss: 0.2306 - acc: 0.9210 - val_loss: 2.9648 - val_acc: 0.5190\n",
      "Epoch 73/100\n",
      "50000/50000 [==============================] - 83s 2ms/step - loss: 0.2366 - acc: 0.9178 - val_loss: 2.9634 - val_acc: 0.5094\n",
      "Epoch 74/100\n",
      "50000/50000 [==============================] - 84s 2ms/step - loss: 0.2202 - acc: 0.9233 - val_loss: 2.9264 - val_acc: 0.5080\n",
      "Epoch 75/100\n",
      "50000/50000 [==============================] - 85s 2ms/step - loss: 0.2165 - acc: 0.9258 - val_loss: 2.9164 - val_acc: 0.5181\n",
      "Epoch 76/100\n",
      "50000/50000 [==============================] - 83s 2ms/step - loss: 0.2079 - acc: 0.9283 - val_loss: 3.0006 - val_acc: 0.5104\n",
      "Epoch 77/100\n",
      "50000/50000 [==============================] - 84s 2ms/step - loss: 0.2066 - acc: 0.9290 - val_loss: 3.0645 - val_acc: 0.5080\n",
      "Epoch 78/100\n",
      "50000/50000 [==============================] - 85s 2ms/step - loss: 0.1981 - acc: 0.9320 - val_loss: 3.1475 - val_acc: 0.5152\n",
      "Epoch 79/100\n",
      "50000/50000 [==============================] - 84s 2ms/step - loss: 0.2078 - acc: 0.9276 - val_loss: 2.7810 - val_acc: 0.5151\n",
      "Epoch 80/100\n",
      "50000/50000 [==============================] - 85s 2ms/step - loss: 0.2010 - acc: 0.9293 - val_loss: 2.9546 - val_acc: 0.5186\n",
      "Epoch 81/100\n",
      "50000/50000 [==============================] - 85s 2ms/step - loss: 0.1820 - acc: 0.9376 - val_loss: 3.0286 - val_acc: 0.5102\n",
      "Epoch 82/100\n",
      "50000/50000 [==============================] - 84s 2ms/step - loss: 0.1947 - acc: 0.9338 - val_loss: 2.8693 - val_acc: 0.5169\n",
      "Epoch 83/100\n",
      "50000/50000 [==============================] - 83s 2ms/step - loss: 0.1826 - acc: 0.9378 - val_loss: 3.0566 - val_acc: 0.5148\n",
      "Epoch 84/100\n",
      "50000/50000 [==============================] - 84s 2ms/step - loss: 0.1769 - acc: 0.9388 - val_loss: 3.0595 - val_acc: 0.5195\n",
      "Epoch 85/100\n",
      "50000/50000 [==============================] - 85s 2ms/step - loss: 0.1769 - acc: 0.9397 - val_loss: 3.0808 - val_acc: 0.5097\n",
      "Epoch 86/100\n",
      "50000/50000 [==============================] - 85s 2ms/step - loss: 0.1817 - acc: 0.9382 - val_loss: 3.0280 - val_acc: 0.5224\n",
      "Epoch 87/100\n",
      "50000/50000 [==============================] - 83s 2ms/step - loss: 0.1709 - acc: 0.9412 - val_loss: 2.9448 - val_acc: 0.5098\n",
      "Epoch 88/100\n",
      "50000/50000 [==============================] - 83s 2ms/step - loss: 0.1651 - acc: 0.9423 - val_loss: 3.1561 - val_acc: 0.5070\n",
      "Epoch 89/100\n",
      "50000/50000 [==============================] - 84s 2ms/step - loss: 0.1668 - acc: 0.9425 - val_loss: 3.1500 - val_acc: 0.5115\n",
      "Epoch 90/100\n",
      "50000/50000 [==============================] - 84s 2ms/step - loss: 0.1853 - acc: 0.9368 - val_loss: 2.9635 - val_acc: 0.5183\n",
      "Epoch 91/100\n",
      "50000/50000 [==============================] - 84s 2ms/step - loss: 0.1600 - acc: 0.9445 - val_loss: 3.0861 - val_acc: 0.5194\n",
      "Epoch 92/100\n",
      "50000/50000 [==============================] - 84s 2ms/step - loss: 0.1607 - acc: 0.9445 - val_loss: 3.0570 - val_acc: 0.5178\n",
      "Epoch 93/100\n",
      "50000/50000 [==============================] - 85s 2ms/step - loss: 0.1483 - acc: 0.9499 - val_loss: 3.1439 - val_acc: 0.5150\n",
      "Epoch 94/100\n",
      "50000/50000 [==============================] - 85s 2ms/step - loss: 0.1701 - acc: 0.9426 - val_loss: 2.9240 - val_acc: 0.5165\n",
      "Epoch 95/100\n",
      "50000/50000 [==============================] - 84s 2ms/step - loss: 0.1464 - acc: 0.9517 - val_loss: 3.1172 - val_acc: 0.5247\n",
      "Epoch 96/100\n",
      "50000/50000 [==============================] - 86s 2ms/step - loss: 0.1518 - acc: 0.9486 - val_loss: 2.9044 - val_acc: 0.5148\n",
      "Epoch 97/100\n",
      "50000/50000 [==============================] - 84s 2ms/step - loss: 0.1630 - acc: 0.9436 - val_loss: 3.2045 - val_acc: 0.5184\n",
      "Epoch 98/100\n",
      "50000/50000 [==============================] - 85s 2ms/step - loss: 0.1497 - acc: 0.9490 - val_loss: 3.1194 - val_acc: 0.5249\n",
      "Epoch 99/100\n",
      "50000/50000 [==============================] - 85s 2ms/step - loss: 0.1390 - acc: 0.9531 - val_loss: 3.1514 - val_acc: 0.5152\n",
      "Epoch 100/100\n",
      "50000/50000 [==============================] - 80s 2ms/step - loss: 0.1590 - acc: 0.9460 - val_loss: 3.1382 - val_acc: 0.5130\n"
     ]
    },
    {
     "data": {
      "text/plain": [
       "<keras.callbacks.History at 0x2195e0a1da0>"
      ]
     },
     "execution_count": 20,
     "metadata": {},
     "output_type": "execute_result"
    }
   ],
   "source": [
    "model.fit(x_train, y_train, \n",
    "          epochs=EPOCHS, \n",
    "          batch_size=BATCH_SIZE, \n",
    "          validation_data=(x_test, y_test), \n",
    "          shuffle=True)"
   ]
  },
  {
   "cell_type": "code",
   "execution_count": 22,
   "metadata": {},
   "outputs": [
    {
     "data": {
      "image/png": "[encoded data removed]",
      "text/plain": [
       "<Figure size 432x288 with 1 Axes>"
      ]
     },
     "metadata": {
      "needs_background": "light"
     },
     "output_type": "display_data"
    },
    {
     "data": {
      "image/png": "[encoded data removed]",
      "text/plain": [
       "<Figure size 432x288 with 1 Axes>"
      ]
     },
     "metadata": {
      "needs_background": "light"
     },
     "output_type": "display_data"
    }
   ],
   "source": [
    "import matplotlib.pyplot as plt\n",
    "\n",
    "\n",
    "train_loss = model.history.history[\"loss\"]\n",
    "valid_loss = model.history.history[\"val_loss\"]\n",
    "\n",
    "train_acc = model.history.history[\"acc\"]\n",
    "valid_acc = model.history.history[\"val_acc\"]\n",
    "\n",
    "plt.plot(range(len(train_loss)), train_loss, label=\"train loss\")\n",
    "plt.plot(range(len(valid_loss)), valid_loss, label=\"valid loss\")\n",
    "plt.legend()\n",
    "plt.title(\"Loss\")\n",
    "plt.show()\n",
    "\n",
    "plt.plot(range(len(train_acc)), train_acc, label=\"train accuracy\")\n",
    "plt.plot(range(len(valid_acc)), valid_acc, label=\"valid accuracy\")\n",
    "plt.legend()\n",
    "plt.title(\"Accuracy\")\n",
    "plt.show()"
   ]
  },
  {
   "cell_type": "code",
   "execution_count": null,
   "metadata": {},
   "outputs": [],
   "source": []
  }
 ],
 "metadata": {
  "kernelspec": {
   "display_name": "Python 3",
   "language": "python",
   "name": "python3"
  },
  "language_info": {
   "codemirror_mode": {
    "name": "ipython",
    "version": 3
   },
   "file_extension": ".py",
   "mimetype": "text/x-python",
   "name": "python",
   "nbconvert_exporter": "python",
   "pygments_lexer": "ipython3",
   "version": "3.6.7"
  }
 },
 "nbformat": 4,
 "nbformat_minor": 2
}
