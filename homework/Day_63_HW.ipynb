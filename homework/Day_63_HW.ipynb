{
 "cells": [
  {
   "cell_type": "code",
   "execution_count": 1,
   "metadata": {},
   "outputs": [],
   "source": [
    "import numpy as np\n",
    "\n",
    "#Input array\n",
    "X = np.array([[1, 0, 1, 0], [1 ,0 ,1 ,1 ],[ 0 , 1 , 0 , 1 ]])\n",
    "\n",
    "#Output\n",
    "y = np.array([[1], [1], [0]])"
   ]
  },
  {
   "cell_type": "code",
   "execution_count": 2,
   "metadata": {},
   "outputs": [],
   "source": [
    "#Sigmoid Function\n",
    "def sigmoid(x): \n",
    "    return  1/(1+np.exp(-x))\n",
    "\n",
    "#Derivative of Sigmoid Function\n",
    "# x = sigmoid func itself , not x in sig func\n",
    "def derivatives_sigmoid(x): \n",
    "    return x*(1-x)"
   ]
  },
  {
   "cell_type": "code",
   "execution_count": 3,
   "metadata": {},
   "outputs": [
    {
     "data": {
      "text/plain": [
       "<Figure size 640x480 with 1 Axes>"
      ]
     },
     "metadata": {},
     "output_type": "display_data"
    }
   ],
   "source": [
    "#### Display Sigmoid & Derivative\n",
    "import matplotlib.pylab as plt \n",
    "plt.style.use('ggplot')\n",
    "x = np.arange(-8, 8, 0.1) \n",
    "a = sigmoid(x)\n",
    "b = derivatives_sigmoid(a)\n",
    "plt.plot(x, a) \n",
    "plt.plot(x, b) \n",
    "plt.xlabel('x') \n",
    "plt.ylabel('func(x)') \n",
    "plt.show()"
   ]
  },
  {
   "cell_type": "code",
   "execution_count": 4,
   "metadata": {},
   "outputs": [],
   "source": [
    "#Variable initialization\n",
    "epoch = 5000 #Setting training iterations\n",
    "lr = 0.1 #Setting learning rate\n",
    "inputlayer_neurons = X.shape[1] #number of features in data set \n",
    "hiddenlayer_neurons = 3 #number of hidden layers neurons\n",
    "output_neurons = 1 #number of neurons at output layer"
   ]
  },
  {
   "cell_type": "code",
   "execution_count": 5,
   "metadata": {},
   "outputs": [],
   "source": [
    "#weight and bias initialization\n",
    "wh = np.random.uniform( size = ( inputlayer_neurons , hiddenlayer_neurons ) )  ## 4*3個\n",
    "bh = np.random.uniform( size = ( 1 , hiddenlayer_neurons ) ) \n",
    "wout = np.random.uniform( size = ( hiddenlayer_neurons , output_neurons ) ) \n",
    "bout = np.random.uniform( size = ( 1 , output_neurons ) )"
   ]
  },
  {
   "cell_type": "code",
   "execution_count": 10,
   "metadata": {},
   "outputs": [
    {
     "name": "stdout",
     "output_type": "stream",
     "text": [
      "wh:\n",
      "[[0.15451572 0.14569171 0.82983478]\n",
      " [0.9022407  0.24420093 0.27286524]\n",
      " [0.36898899 0.39449576 0.4234552 ]\n",
      " [0.67060647 0.06604283 0.22136006]]\n",
      "---------------------------\n",
      "bh:\n",
      "[[0.0130992  0.51326959 0.93787848]]\n",
      "---------------------------\n",
      "wout:\n",
      "[[0.88596773]\n",
      " [0.67425493]\n",
      " [0.40042567]]\n",
      "---------------------------\n",
      "bout:\n",
      "[[0.24995264]]\n"
     ]
    }
   ],
   "source": [
    "print('wh:\\n{}'.format(wh))\n",
    "print('---------------------------')\n",
    "print('bh:\\n{}'.format(bh))\n",
    "print('---------------------------')\n",
    "print('wout:\\n{}'.format(wout))\n",
    "print('---------------------------')\n",
    "print('bout:\\n{}'.format(bout))"
   ]
  },
  {
   "cell_type": "markdown",
   "metadata": {
    "collapsed": true
   },
   "source": [
    "# 作業 \n",
    "* 請參閱範例中的 hidden Layer 寫法, 完成 output Layer 的程式"
   ]
  },
  {
   "cell_type": "code",
   "execution_count": 22,
   "metadata": {},
   "outputs": [
    {
     "name": "stdout",
     "output_type": "stream",
     "text": [
      "output of Forward Propogation:\n",
      "[[0.88901269]\n",
      " [0.89413133]\n",
      " [0.88432525]]\n",
      "wout,bout of Backpropagation:\n",
      "[[0.80463524]\n",
      " [0.11501331]\n",
      " [0.87046048]],\n",
      "[[0.60961513]]\n"
     ]
    }
   ],
   "source": [
    "for i in  range(epoch) :\n",
    "    #Forward Propogation\n",
    "    hidden_layer_input1 = np.dot(X, wh) \n",
    "    hidden_layer_input = hidden_layer_input1 + bh\n",
    "    hiddenlayer_activations =  sigmoid( hidden_layer_input ) \n",
    "\n",
    "    output_layer_input1 = np.dot(hiddenlayer_activations, wout)\n",
    "    output_layer_input = output_layer_input1 + bout\n",
    "    output = sigmoid( output_layer_input )\n",
    "    \n",
    "print ( \"output of Forward Propogation:\\n{}\" .format(output)) \n",
    "print ( \"wout,bout of Backpropagation:\\n{},\\n{}\" .format(wout, bout ))"
   ]
  },
  {
   "cell_type": "code",
   "execution_count": null,
   "metadata": {
    "collapsed": true
   },
   "outputs": [],
   "source": []
  }
 ],
 "metadata": {
  "kernelspec": {
   "display_name": "Python 3",
   "language": "python",
   "name": "python3"
  },
  "language_info": {
   "codemirror_mode": {
    "name": "ipython",
    "version": 3
   },
   "file_extension": ".py",
   "mimetype": "text/x-python",
   "name": "python",
   "nbconvert_exporter": "python",
   "pygments_lexer": "ipython3",
   "version": "3.7.1"
  }
 },
 "nbformat": 4,
 "nbformat_minor": 2
}
