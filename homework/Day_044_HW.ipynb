{
 "cells": [
  {
   "cell_type": "markdown",
   "metadata": {},
   "source": [
    "## 作業\n",
    "\n",
    "1. 試著調整 RandomForestClassifier(...) 中的參數，並觀察是否會改變結果？\n",
    "2. 改用其他資料集 (boston, wine)，並與回歸模型與決策樹的結果進行比較"
   ]
  },
  {
   "cell_type": "code",
   "execution_count": 1,
   "metadata": {},
   "outputs": [
    {
     "name": "stderr",
     "output_type": "stream",
     "text": [
      "C:\\Users\\kevin\\AppData\\Local\\Continuum\\anaconda3\\lib\\site-packages\\sklearn\\ensemble\\weight_boosting.py:29: DeprecationWarning: numpy.core.umath_tests is an internal NumPy module and should not be imported. It will be removed in a future NumPy release.\n",
      "  from numpy.core.umath_tests import inner1d\n"
     ]
    }
   ],
   "source": [
    "from sklearn import datasets, metrics, linear_model\n",
    "from sklearn.tree import DecisionTreeRegressor,DecisionTreeClassifier\n",
    "from sklearn.ensemble import RandomForestClassifier, RandomForestRegressor\n",
    "from sklearn.model_selection import train_test_split"
   ]
  },
  {
   "cell_type": "code",
   "execution_count": 2,
   "metadata": {},
   "outputs": [],
   "source": [
    "# 未調整前\n",
    "iris = datasets.load_iris()\n",
    "x_train, x_test, y_train, y_test = train_test_split(iris.data, iris.target, test_size=0.25, stratify=iris.target)\n",
    "rfco = RandomForestClassifier()\n",
    "rfco.fit(x_train, y_train)\n",
    "y_pred = rfco.predict(x_test)"
   ]
  },
  {
   "cell_type": "code",
   "execution_count": 3,
   "metadata": {},
   "outputs": [
    {
     "name": "stdout",
     "output_type": "stream",
     "text": [
      "Acuuracy:  0.9210526315789473\n",
      "['sepal length (cm)', 'sepal width (cm)', 'petal length (cm)', 'petal width (cm)']\n",
      "Feature importance:  [0.01992087 0.0220629  0.69606725 0.26194898]\n"
     ]
    }
   ],
   "source": [
    "print(\"Acuuracy: \", metrics.accuracy_score(y_test, y_pred))\n",
    "print(iris.feature_names)\n",
    "print(\"Feature importance: \", rfco.feature_importances_)"
   ]
  },
  {
   "cell_type": "code",
   "execution_count": 4,
   "metadata": {},
   "outputs": [],
   "source": [
    "### 調整後\n",
    "iris = datasets.load_iris()\n",
    "x_train, x_test, y_train, y_test = train_test_split(iris.data, iris.target, test_size=0.25, stratify=iris.target)\n",
    "rfc = RandomForestClassifier(max_features=4, n_estimators=1, min_samples_leaf=5)\n",
    "rfc.fit(x_train, y_train)\n",
    "y_pred = rfc.predict(x_test)"
   ]
  },
  {
   "cell_type": "code",
   "execution_count": 5,
   "metadata": {},
   "outputs": [
    {
     "name": "stdout",
     "output_type": "stream",
     "text": [
      "Acuuracy:  0.9473684210526315\n",
      "['sepal length (cm)', 'sepal width (cm)', 'petal length (cm)', 'petal width (cm)']\n",
      "Feature importance:  [0.         0.00392822 0.64762749 0.34844428]\n"
     ]
    }
   ],
   "source": [
    "print(\"Acuuracy: \", metrics.accuracy_score(y_test, y_pred))\n",
    "print(iris.feature_names)\n",
    "print(\"Feature importance: \", rfc.feature_importances_)"
   ]
  },
  {
   "cell_type": "markdown",
   "metadata": {},
   "source": [
    "### Linear"
   ]
  },
  {
   "cell_type": "code",
   "execution_count": 6,
   "metadata": {},
   "outputs": [],
   "source": [
    "boston = datasets.load_boston()\n",
    "\n",
    "x_train, x_test, y_train, y_test = train_test_split(boston.data, boston.target, test_size=0.15)\n",
    "\n",
    "lr = linear_model.LinearRegression()\n",
    "\n",
    "lr.fit(x_train, y_train)\n",
    "\n",
    "y_pred = lr.predict(x_test)"
   ]
  },
  {
   "cell_type": "code",
   "execution_count": 7,
   "metadata": {},
   "outputs": [
    {
     "name": "stdout",
     "output_type": "stream",
     "text": [
      "MAE: 3.7379\n",
      "MSE: 28.9053\n",
      "R-Squared: 0.6718\n"
     ]
    }
   ],
   "source": [
    "print('MAE: {:.4f}'.format(metrics.mean_absolute_error(y_test, y_pred)))\n",
    "print('MSE: {:.4f}'.format(metrics.mean_squared_error(y_test, y_pred)))\n",
    "print('R-Squared: {:.4f}'.format(metrics.r2_score(y_test, y_pred)))"
   ]
  },
  {
   "cell_type": "code",
   "execution_count": 8,
   "metadata": {},
   "outputs": [
    {
     "name": "stdout",
     "output_type": "stream",
     "text": [
      "MAE: 3.7870\n",
      "Mean Squared Error: 30.0381\n",
      "R-Squared: 0.6590\n"
     ]
    }
   ],
   "source": [
    "lasso = linear_model.Lasso(alpha=1.0)\n",
    "lasso.fit(x_train, y_train)\n",
    "y_pred = lasso.predict(x_test)\n",
    "print('MAE: {:.4f}'.format(metrics.mean_absolute_error(y_test, y_pred)))\n",
    "print(\"Mean Squared Error: {:.4f}\".format(metrics.mean_squared_error(y_test, y_pred)))\n",
    "print(\"R-Squared: {:.4f}\".format(metrics.r2_score(y_test, y_pred)))"
   ]
  },
  {
   "cell_type": "code",
   "execution_count": 9,
   "metadata": {},
   "outputs": [
    {
     "name": "stdout",
     "output_type": "stream",
     "text": [
      "MAE: 3.6701\n",
      "Mean Squared Error: 28.9079\n",
      "R-Squared: 0.6718\n"
     ]
    }
   ],
   "source": [
    "ridge = linear_model.Ridge(alpha=1.0)\n",
    "ridge.fit(x_train, y_train)\n",
    "y_pred = ridge.predict(x_test)\n",
    "print('MAE: {:.4f}'.format(metrics.mean_absolute_error(y_test, y_pred)))\n",
    "print(\"Mean Squared Error: {:.4f}\".format(metrics.mean_squared_error(y_test, y_pred)))\n",
    "print(\"R-Squared: {:.4f}\".format(metrics.r2_score(y_test, y_pred)))"
   ]
  },
  {
   "cell_type": "markdown",
   "metadata": {},
   "source": [
    "### Decesion Tree"
   ]
  },
  {
   "cell_type": "code",
   "execution_count": 10,
   "metadata": {},
   "outputs": [
    {
     "name": "stdout",
     "output_type": "stream",
     "text": [
      "MAE: 2.8658\n",
      "MSE: 16.3224\n",
      "R-Squared: 0.8147\n",
      "\n",
      "['CRIM' 'ZN' 'INDUS' 'CHAS' 'NOX' 'RM' 'AGE' 'DIS' 'RAD' 'TAX' 'PTRATIO'\n",
      " 'B' 'LSTAT']\n",
      "\n",
      "feature importance:\n",
      "[3.48203604e-02 2.93715053e-03 1.08897479e-02 3.15473270e-04\n",
      " 2.75388341e-02 6.07931555e-01 1.17304033e-02 8.26395659e-02\n",
      " 3.46920157e-03 7.58570977e-03 2.59158804e-02 9.24596067e-03\n",
      " 1.74980157e-01]\n"
     ]
    }
   ],
   "source": [
    "dtr = DecisionTreeRegressor()\n",
    "dtr.fit(x_train, y_train)\n",
    "y_pred = dtr.predict(x_test)\n",
    "print('MAE: {:.4f}'.format(metrics.mean_absolute_error(y_test, y_pred)))\n",
    "print('MSE: {:.4f}'.format(metrics.mean_squared_error(y_test, y_pred)))\n",
    "print('R-Squared: {:.4f}'.format(metrics.r2_score(y_test, y_pred)))\n",
    "print('\\n{}'.format(boston.feature_names))\n",
    "print()\n",
    "print('feature importance:\\n{}'.format(dtr.feature_importances_))"
   ]
  },
  {
   "cell_type": "markdown",
   "metadata": {},
   "source": [
    "### Random Forest"
   ]
  },
  {
   "cell_type": "code",
   "execution_count": 11,
   "metadata": {},
   "outputs": [
    {
     "name": "stdout",
     "output_type": "stream",
     "text": [
      "MAE: 2.2176\n",
      "\n",
      "MSE: 12.1700\n",
      "\n",
      "R-Squared: 0.8618\n",
      "\n",
      "['CRIM' 'ZN' 'INDUS' 'CHAS' 'NOX' 'RM' 'AGE' 'DIS' 'RAD' 'TAX' 'PTRATIO'\n",
      " 'B' 'LSTAT']\n",
      "\n",
      "feature importance:\n",
      "[0.03207106 0.00153415 0.00566306 0.00056231 0.00970542 0.49209248\n",
      " 0.01353241 0.07034295 0.00574137 0.02063922 0.01836381 0.01560725\n",
      " 0.3141445 ]\n"
     ]
    }
   ],
   "source": [
    "rfr = RandomForestRegressor()\n",
    "rfr.fit(x_train, y_train)\n",
    "y_pred = rfr.predict(x_test)\n",
    "print('MAE: {:.4f}'.format(metrics.mean_absolute_error(y_test, y_pred)))\n",
    "print('\\nMSE: {:.4f}'.format(metrics.mean_squared_error(y_test, y_pred)))\n",
    "print('\\nR-Squared: {:.4f}'.format(metrics.r2_score(y_test, y_pred)))\n",
    "print('\\n{}'.format(boston.feature_names))\n",
    "print()\n",
    "print('feature importance:\\n{}'.format(rfr.feature_importances_))"
   ]
  }
 ],
 "metadata": {
  "kernelspec": {
   "display_name": "Python 3",
   "language": "python",
   "name": "python3"
  },
  "language_info": {
   "codemirror_mode": {
    "name": "ipython",
    "version": 3
   },
   "file_extension": ".py",
   "mimetype": "text/x-python",
   "name": "python",
   "nbconvert_exporter": "python",
   "pygments_lexer": "ipython3",
   "version": "3.7.0"
  },
  "varInspector": {
   "cols": {
    "lenName": 16,
    "lenType": 16,
    "lenVar": 40
   },
   "kernels_config": {
    "python": {
     "delete_cmd_postfix": "",
     "delete_cmd_prefix": "del ",
     "library": "var_list.py",
     "varRefreshCmd": "print(var_dic_list())"
    },
    "r": {
     "delete_cmd_postfix": ") ",
     "delete_cmd_prefix": "rm(",
     "library": "var_list.r",
     "varRefreshCmd": "cat(var_dic_list()) "
    }
   },
   "types_to_exclude": [
    "module",
    "function",
    "builtin_function_or_method",
    "instance",
    "_Feature"
   ],
   "window_display": false
  }
 },
 "nbformat": 4,
 "nbformat_minor": 2
}
