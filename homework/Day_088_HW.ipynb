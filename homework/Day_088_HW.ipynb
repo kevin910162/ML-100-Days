{
 "cells": [
  {
   "cell_type": "markdown",
   "metadata": {},
   "source": [
    "## Work\n",
    "1. 請嘗試寫一個 callback 用來記錄各類別在訓練過程中，對驗證集的 True Positive 與 True Negative"
   ]
  },
  {
   "cell_type": "code",
   "execution_count": 1,
   "metadata": {},
   "outputs": [
    {
     "name": "stdout",
     "output_type": "stream",
     "text": [
      "Sun Apr 07 01:35:52 2019       \n",
      "+-----------------------------------------------------------------------------+\n",
      "| NVIDIA-SMI 399.24                 Driver Version: 399.24                    |\n",
      "|-------------------------------+----------------------+----------------------+\n",
      "| GPU  Name            TCC/WDDM | Bus-Id        Disp.A | Volatile Uncorr. ECC |\n",
      "| Fan  Temp  Perf  Pwr:Usage/Cap|         Memory-Usage | GPU-Util  Compute M. |\n",
      "|===============================+======================+======================|\n",
      "|   0  GeForce GTX 970    WDDM  | 00000000:01:00.0  On |                  N/A |\n",
      "| 34%   31C    P8    18W / 250W |    259MiB /  4096MiB |      0%      Default |\n",
      "+-------------------------------+----------------------+----------------------+\n",
      "                                                                               \n",
      "+-----------------------------------------------------------------------------+\n",
      "| Processes:                                                       GPU Memory |\n",
      "|  GPU       PID   Type   Process name                             Usage      |\n",
      "|=============================================================================|\n",
      "|    0      1176    C+G   Insufficient Permissions                   N/A      |\n",
      "|    0      5372    C+G   ...11411.0_x64__8wekyb3d8bbwe\\Video.UI.exe N/A      |\n",
      "|    0      6476    C+G   C:\\Windows\\explorer.exe                    N/A      |\n",
      "|    0      8728    C+G   ...x64__8wekyb3d8bbwe\\Microsoft.Photos.exe N/A      |\n",
      "|    0      8828    C+G   ...t_cw5n1h2txyewy\\ShellExperienceHost.exe N/A      |\n",
      "|    0      9108    C+G   ...dows.Cortana_cw5n1h2txyewy\\SearchUI.exe N/A      |\n",
      "|    0      9440    C+G   ...osoft.LockApp_cw5n1h2txyewy\\LockApp.exe N/A      |\n",
      "|    0     10060    C+G   ...42.60.0_x64__kzf8qxf38zg5c\\SkypeApp.exe N/A      |\n",
      "|    0     12712    C+G   ...6)\\Google\\Chrome\\Application\\chrome.exe N/A      |\n",
      "|    0     15100    C+G   ...0_x86__7gejyv32yt3te\\app\\Musixmatch.exe N/A      |\n",
      "|    0     16968    C+G   Insufficient Permissions                   N/A      |\n",
      "+-----------------------------------------------------------------------------+\n"
     ]
    }
   ],
   "source": [
    "!\"C:\\Program Files\\NVIDIA Corporation\\NVSMI\\nvidia-smi.exe\""
   ]
  },
  {
   "cell_type": "code",
   "execution_count": 2,
   "metadata": {},
   "outputs": [
    {
     "name": "stderr",
     "output_type": "stream",
     "text": [
      "Using TensorFlow backend.\n"
     ]
    }
   ],
   "source": [
    "import os\n",
    "import keras\n",
    "import tensorflow as tf\n",
    "\n",
    "from numba import cuda\n",
    "cuda.select_device(0)\n",
    "cuda.close()\n",
    "\n",
    "import itertools\n",
    "# Disable GPU\n",
    "# os.environ[\"CUDA_VISIBLE_DEVICES\"] = \"\""
   ]
  },
  {
   "cell_type": "code",
   "execution_count": 3,
   "metadata": {},
   "outputs": [],
   "source": [
    "train, test = keras.datasets.cifar10.load_data()"
   ]
  },
  {
   "cell_type": "code",
   "execution_count": 4,
   "metadata": {},
   "outputs": [],
   "source": [
    "## 資料前處理\n",
    "def preproc_x(x, flatten=True):\n",
    "    x = x / 255.\n",
    "    if flatten:\n",
    "        x = x.reshape((len(x), -1))\n",
    "    return x\n",
    "\n",
    "def preproc_y(y, num_classes=10):\n",
    "    if y.shape[-1] == 1:\n",
    "        y = keras.utils.to_categorical(y, num_classes)\n",
    "    return y    "
   ]
  },
  {
   "cell_type": "code",
   "execution_count": 5,
   "metadata": {},
   "outputs": [],
   "source": [
    "x_train, y_train = train\n",
    "x_test, y_test = test\n",
    "\n",
    "# Preproc the inputs\n",
    "x_train = preproc_x(x_train)\n",
    "x_test = preproc_x(x_test)\n",
    "\n",
    "# Preprc the outputs\n",
    "y_train = preproc_y(y_train)\n",
    "y_test = preproc_y(y_test)"
   ]
  },
  {
   "cell_type": "code",
   "execution_count": 6,
   "metadata": {},
   "outputs": [],
   "source": [
    "def build_mlp(input_shape, output_units=y_train.shape[-1], n_layers=4, num_neurons=[512, 256, 128, 64]):\n",
    "\n",
    "    input_layer = keras.layers.Input(input_shape)\n",
    "\n",
    "    for i, n_units in enumerate(num_neurons[:n_layers]):\n",
    "        if i == 0:\n",
    "            x = keras.layers.BatchNormalization()(input_layer)\n",
    "            x = keras.layers.Dense(units=n_units,activation='relu',\n",
    "                                   name='hidden_layers'+str(i+1))(x)\n",
    "        else:\n",
    "            x = keras.layers.BatchNormalization()(x)\n",
    "            x = keras.layers.Dense(units=n_units,activation='relu',\n",
    "                                   name='hidden_layers'+str(i+1))(x)\n",
    "\n",
    "    output_layer = keras.layers.Dense(units=output_units, activation='softmax', name='output')(x)\n",
    "\n",
    "    model = keras.models.Model(inputs=[input_layer], outputs=[output_layer])\n",
    "    \n",
    "    return model"
   ]
  },
  {
   "cell_type": "code",
   "execution_count": 7,
   "metadata": {},
   "outputs": [],
   "source": [
    "## 超參數設定\n",
    "LEARNING_RATE = 1e-3\n",
    "EPOCHS = 50\n",
    "BATCH_SIZE = 1024\n",
    "MOMENTUM = 0.95"
   ]
  },
  {
   "cell_type": "code",
   "execution_count": 8,
   "metadata": {},
   "outputs": [],
   "source": [
    "# 載入 Callbacks\n",
    "\n",
    "from keras.callbacks import Callback\n",
    "from sklearn.metrics import confusion_matrix\n",
    "\n",
    "# Record_fp_tp\n",
    "\n",
    "class Record_tp_tn(Callback):\n",
    "\n",
    "    def on_train_begin(self, epoch, logs={}):\n",
    "        logs = logs or {}\n",
    "        record_items = [\"val_auc\", \"val_f1sc\", \"val_fp\", \"val_fn\", \"val_tp\", \"val_tn\"]\n",
    "        for i in record_items:\n",
    "            if i not in self.params['metrics']:\n",
    "                self.params['metrics'].append(i) \n",
    "\n",
    "    def on_epoch_end(self, epoch, logs={}, thres=0.5):\n",
    "        logs = logs or {}\n",
    "        y_true = self.validation_data[1].argmax(axis=1)\n",
    "        y_pred = self.model.predict(self.validation_data[0])\n",
    "        y_pred = (y_pred[:, 1] >= thres) * 1\n",
    "        \n",
    "\n",
    "        con_mat = confusion_matrix(y_true, y_pred)\n",
    "        logs[\"val_tp\"] = con_mat[0][0]\n",
    "        logs[\"val_tn\"] = con_mat[1][1]   \n",
    "\n",
    "rec_tptn = Record_tp_tn()"
   ]
  },
  {
   "cell_type": "code",
   "execution_count": 9,
   "metadata": {
    "scrolled": true
   },
   "outputs": [
    {
     "name": "stdout",
     "output_type": "stream",
     "text": [
      "_________________________________________________________________\n",
      "Layer (type)                 Output Shape              Param #   \n",
      "=================================================================\n",
      "input_1 (InputLayer)         (None, 3072)              0         \n",
      "_________________________________________________________________\n",
      "batch_normalization_1 (Batch (None, 3072)              12288     \n",
      "_________________________________________________________________\n",
      "hidden_layers1 (Dense)       (None, 512)               1573376   \n",
      "_________________________________________________________________\n",
      "batch_normalization_2 (Batch (None, 512)               2048      \n",
      "_________________________________________________________________\n",
      "hidden_layers2 (Dense)       (None, 256)               131328    \n",
      "_________________________________________________________________\n",
      "batch_normalization_3 (Batch (None, 256)               1024      \n",
      "_________________________________________________________________\n",
      "hidden_layers3 (Dense)       (None, 128)               32896     \n",
      "_________________________________________________________________\n",
      "batch_normalization_4 (Batch (None, 128)               512       \n",
      "_________________________________________________________________\n",
      "hidden_layers4 (Dense)       (None, 64)                8256      \n",
      "_________________________________________________________________\n",
      "output (Dense)               (None, 10)                650       \n",
      "=================================================================\n",
      "Total params: 1,762,378\n",
      "Trainable params: 1,754,442\n",
      "Non-trainable params: 7,936\n",
      "_________________________________________________________________\n",
      "Train on 50000 samples, validate on 10000 samples\n",
      "Epoch 1/50\n",
      "50000/50000 [==============================] - 5s 94us/step - loss: 2.3411 - acc: 0.2147 - val_loss: 1.9657 - val_acc: 0.3173\n",
      "Epoch 2/50\n",
      "50000/50000 [==============================] - 3s 56us/step - loss: 1.8144 - acc: 0.3610 - val_loss: 1.7632 - val_acc: 0.3753\n",
      "Epoch 3/50\n",
      "50000/50000 [==============================] - 3s 57us/step - loss: 1.6759 - acc: 0.4096 - val_loss: 1.6849 - val_acc: 0.4050\n",
      "Epoch 4/50\n",
      "50000/50000 [==============================] - 3s 56us/step - loss: 1.5920 - acc: 0.4411 - val_loss: 1.6360 - val_acc: 0.4187\n",
      "Epoch 5/50\n",
      "50000/50000 [==============================] - 3s 56us/step - loss: 1.5294 - acc: 0.4640 - val_loss: 1.6002 - val_acc: 0.4325\n",
      "Epoch 6/50\n",
      "50000/50000 [==============================] - 3s 56us/step - loss: 1.4768 - acc: 0.4815 - val_loss: 1.5739 - val_acc: 0.4393\n",
      "Epoch 7/50\n",
      "50000/50000 [==============================] - 3s 56us/step - loss: 1.4308 - acc: 0.4981 - val_loss: 1.5521 - val_acc: 0.4458\n",
      "Epoch 8/50\n",
      "50000/50000 [==============================] - 3s 57us/step - loss: 1.3899 - acc: 0.5136 - val_loss: 1.5312 - val_acc: 0.4548\n",
      "Epoch 9/50\n",
      "50000/50000 [==============================] - 3s 59us/step - loss: 1.3518 - acc: 0.5280 - val_loss: 1.5173 - val_acc: 0.4599\n",
      "Epoch 10/50\n",
      "50000/50000 [==============================] - 3s 60us/step - loss: 1.3166 - acc: 0.5436 - val_loss: 1.5036 - val_acc: 0.4658\n",
      "Epoch 11/50\n",
      "50000/50000 [==============================] - 3s 59us/step - loss: 1.2824 - acc: 0.5544 - val_loss: 1.4928 - val_acc: 0.4706\n",
      "Epoch 12/50\n",
      "50000/50000 [==============================] - 3s 56us/step - loss: 1.2508 - acc: 0.5667 - val_loss: 1.4817 - val_acc: 0.4737\n",
      "Epoch 13/50\n",
      "50000/50000 [==============================] - 3s 55us/step - loss: 1.2202 - acc: 0.5776 - val_loss: 1.4733 - val_acc: 0.4763\n",
      "Epoch 14/50\n",
      "50000/50000 [==============================] - 3s 55us/step - loss: 1.1896 - acc: 0.5901 - val_loss: 1.4687 - val_acc: 0.4756\n",
      "Epoch 15/50\n",
      "50000/50000 [==============================] - 3s 55us/step - loss: 1.1618 - acc: 0.6010 - val_loss: 1.4630 - val_acc: 0.4809\n",
      "Epoch 16/50\n",
      "50000/50000 [==============================] - 3s 55us/step - loss: 1.1314 - acc: 0.6131 - val_loss: 1.4582 - val_acc: 0.4806\n",
      "Epoch 17/50\n",
      "50000/50000 [==============================] - 3s 56us/step - loss: 1.1027 - acc: 0.6236 - val_loss: 1.4565 - val_acc: 0.4837\n",
      "Epoch 18/50\n",
      "50000/50000 [==============================] - 3s 55us/step - loss: 1.0758 - acc: 0.6346 - val_loss: 1.4538 - val_acc: 0.4857\n",
      "Epoch 19/50\n",
      "50000/50000 [==============================] - 3s 55us/step - loss: 1.0476 - acc: 0.6461 - val_loss: 1.4545 - val_acc: 0.4873\n",
      "Epoch 20/50\n",
      "50000/50000 [==============================] - 3s 58us/step - loss: 1.0203 - acc: 0.6551 - val_loss: 1.4539 - val_acc: 0.4882\n",
      "Epoch 21/50\n",
      "50000/50000 [==============================] - 3s 56us/step - loss: 0.9925 - acc: 0.6655 - val_loss: 1.4574 - val_acc: 0.4893\n",
      "Epoch 22/50\n",
      "50000/50000 [==============================] - 3s 57us/step - loss: 0.9655 - acc: 0.6790 - val_loss: 1.4587 - val_acc: 0.4866\n",
      "Epoch 23/50\n",
      "50000/50000 [==============================] - 3s 55us/step - loss: 0.9386 - acc: 0.6881 - val_loss: 1.4616 - val_acc: 0.4894\n",
      "Epoch 24/50\n",
      "50000/50000 [==============================] - 3s 55us/step - loss: 0.9119 - acc: 0.6970 - val_loss: 1.4665 - val_acc: 0.4918\n",
      "Epoch 25/50\n",
      "50000/50000 [==============================] - 3s 56us/step - loss: 0.8844 - acc: 0.7084 - val_loss: 1.4722 - val_acc: 0.4901\n",
      "Epoch 26/50\n",
      "50000/50000 [==============================] - 3s 58us/step - loss: 0.8584 - acc: 0.7204 - val_loss: 1.4815 - val_acc: 0.4919\n",
      "Epoch 27/50\n",
      "50000/50000 [==============================] - 3s 58us/step - loss: 0.8322 - acc: 0.7276 - val_loss: 1.4857 - val_acc: 0.4912\n",
      "Epoch 28/50\n",
      "50000/50000 [==============================] - 3s 61us/step - loss: 0.8048 - acc: 0.7395 - val_loss: 1.4978 - val_acc: 0.4925\n",
      "Epoch 29/50\n",
      "50000/50000 [==============================] - 3s 57us/step - loss: 0.7795 - acc: 0.7501 - val_loss: 1.5060 - val_acc: 0.4922\n",
      "Epoch 30/50\n",
      "50000/50000 [==============================] - 3s 61us/step - loss: 0.7532 - acc: 0.7595 - val_loss: 1.5183 - val_acc: 0.4928\n",
      "Epoch 31/50\n",
      "50000/50000 [==============================] - 3s 60us/step - loss: 0.7280 - acc: 0.7680 - val_loss: 1.5277 - val_acc: 0.4895\n",
      "Epoch 32/50\n",
      "50000/50000 [==============================] - 3s 58us/step - loss: 0.7028 - acc: 0.7798 - val_loss: 1.5435 - val_acc: 0.4927\n",
      "Epoch 33/50\n",
      "50000/50000 [==============================] - 3s 56us/step - loss: 0.6777 - acc: 0.7908 - val_loss: 1.5589 - val_acc: 0.4910\n",
      "Epoch 34/50\n",
      "50000/50000 [==============================] - 3s 56us/step - loss: 0.6511 - acc: 0.8007 - val_loss: 1.5680 - val_acc: 0.4898\n",
      "Epoch 35/50\n",
      "50000/50000 [==============================] - 3s 57us/step - loss: 0.6277 - acc: 0.8113 - val_loss: 1.5837 - val_acc: 0.4889\n",
      "Epoch 36/50\n",
      "50000/50000 [==============================] - 3s 56us/step - loss: 0.6034 - acc: 0.8182 - val_loss: 1.5987 - val_acc: 0.4879\n",
      "Epoch 37/50\n",
      "50000/50000 [==============================] - 3s 54us/step - loss: 0.5776 - acc: 0.8293 - val_loss: 1.6172 - val_acc: 0.4881\n",
      "Epoch 38/50\n",
      "50000/50000 [==============================] - 3s 55us/step - loss: 0.5566 - acc: 0.8367 - val_loss: 1.6308 - val_acc: 0.4868\n",
      "Epoch 39/50\n",
      "50000/50000 [==============================] - 3s 57us/step - loss: 0.5321 - acc: 0.8472 - val_loss: 1.6466 - val_acc: 0.4854\n",
      "Epoch 40/50\n",
      "50000/50000 [==============================] - 3s 55us/step - loss: 0.5083 - acc: 0.8570 - val_loss: 1.6706 - val_acc: 0.4866\n",
      "Epoch 41/50\n",
      "50000/50000 [==============================] - 3s 57us/step - loss: 0.4874 - acc: 0.8651 - val_loss: 1.6906 - val_acc: 0.4822\n",
      "Epoch 42/50\n",
      "50000/50000 [==============================] - 3s 59us/step - loss: 0.4651 - acc: 0.8739 - val_loss: 1.7100 - val_acc: 0.4830\n",
      "Epoch 43/50\n",
      "50000/50000 [==============================] - 3s 59us/step - loss: 0.4431 - acc: 0.8811 - val_loss: 1.7285 - val_acc: 0.4831\n",
      "Epoch 44/50\n",
      "50000/50000 [==============================] - 3s 57us/step - loss: 0.4205 - acc: 0.8900 - val_loss: 1.7481 - val_acc: 0.4836\n",
      "Epoch 45/50\n",
      "50000/50000 [==============================] - 3s 60us/step - loss: 0.4003 - acc: 0.8976 - val_loss: 1.7752 - val_acc: 0.4808\n",
      "Epoch 46/50\n",
      "50000/50000 [==============================] - 3s 59us/step - loss: 0.3814 - acc: 0.9051 - val_loss: 1.7956 - val_acc: 0.4813\n",
      "Epoch 47/50\n",
      "50000/50000 [==============================] - 3s 58us/step - loss: 0.3606 - acc: 0.9123 - val_loss: 1.8178 - val_acc: 0.4821\n",
      "Epoch 48/50\n"
     ]
    },
    {
     "name": "stdout",
     "output_type": "stream",
     "text": [
      "50000/50000 [==============================] - 3s 57us/step - loss: 0.3431 - acc: 0.9187 - val_loss: 1.8459 - val_acc: 0.4774\n",
      "Epoch 49/50\n",
      "50000/50000 [==============================] - 3s 56us/step - loss: 0.3250 - acc: 0.9248 - val_loss: 1.8692 - val_acc: 0.4790\n",
      "Epoch 50/50\n",
      "50000/50000 [==============================] - 3s 55us/step - loss: 0.3078 - acc: 0.9297 - val_loss: 1.8919 - val_acc: 0.4761\n"
     ]
    }
   ],
   "source": [
    "model = build_mlp(input_shape=x_train.shape[1:])\n",
    "model.summary()\n",
    "optimizer = keras.optimizers.SGD(lr=LEARNING_RATE, nesterov=True, momentum=MOMENTUM)\n",
    "model.compile(loss=\"categorical_crossentropy\", metrics=[\"accuracy\"], optimizer=optimizer)\n",
    "\n",
    "model.fit(x_train, y_train, \n",
    "          epochs=EPOCHS, \n",
    "          batch_size=BATCH_SIZE, \n",
    "          validation_data=(x_test, y_test), \n",
    "          shuffle=True,\n",
    "          callbacks=[rec_tptn])\n",
    "\n",
    "# Collect results\n",
    "train_loss = model.history.history[\"loss\"]\n",
    "valid_loss = model.history.history[\"val_loss\"]\n",
    "train_acc = model.history.history[\"acc\"]\n",
    "valid_acc = model.history.history[\"val_acc\"]\n",
    "\n",
    "\n",
    "valid_tp = model.history.history[\"val_tp\"]\n",
    "valid_tn = model.history.history[\"val_tn\"]"
   ]
  },
  {
   "cell_type": "code",
   "execution_count": 10,
   "metadata": {},
   "outputs": [
    {
     "data": {
      "image/png": "[encoded data removed]",
      "text/plain": [
       "<Figure size 432x288 with 1 Axes>"
      ]
     },
     "metadata": {
      "needs_background": "light"
     },
     "output_type": "display_data"
    },
    {
     "data": {
      "image/png": "[encoded data removed]",
      "text/plain": [
       "<Figure size 432x288 with 1 Axes>"
      ]
     },
     "metadata": {
      "needs_background": "light"
     },
     "output_type": "display_data"
    },
    {
     "data": {
      "image/png": "[encoded data removed]",
      "text/plain": [
       "<Figure size 432x288 with 1 Axes>"
      ]
     },
     "metadata": {
      "needs_background": "light"
     },
     "output_type": "display_data"
    }
   ],
   "source": [
    "import matplotlib.pyplot as plt\n",
    "%matplotlib inline\n",
    "\n",
    "plt.plot(range(len(train_loss)), train_loss, label=\"train loss\")\n",
    "plt.plot(range(len(valid_loss)), valid_loss, label=\"valid loss\")\n",
    "plt.legend()\n",
    "plt.title(\"Loss\")\n",
    "plt.show()\n",
    "\n",
    "plt.plot(range(len(train_acc)), train_acc, label=\"train accuracy\")\n",
    "plt.plot(range(len(valid_acc)), valid_acc, label=\"valid accuracy\")\n",
    "plt.legend()\n",
    "plt.title(\"Accuracy\")\n",
    "plt.show()\n",
    "\n",
    "plt.plot(range(len(valid_tp)), valid_tp, label=\"valid tp\", color=\"navy\")\n",
    "plt.plot(range(len(valid_tn)), valid_tn, label=\"valid tn\", color=\"red\")\n",
    "plt.legend()\n",
    "plt.title(\"True positives and True Negatives\")\n",
    "plt.show()\n"
   ]
  },
  {
   "cell_type": "code",
   "execution_count": null,
   "metadata": {},
   "outputs": [],
   "source": []
  }
 ],
 "metadata": {
  "kernelspec": {
   "display_name": "Python 3",
   "language": "python",
   "name": "python3"
  },
  "language_info": {
   "codemirror_mode": {
    "name": "ipython",
    "version": 3
   },
   "file_extension": ".py",
   "mimetype": "text/x-python",
   "name": "python",
   "nbconvert_exporter": "python",
   "pygments_lexer": "ipython3",
   "version": "3.6.8"
  }
 },
 "nbformat": 4,
 "nbformat_minor": 2
}
